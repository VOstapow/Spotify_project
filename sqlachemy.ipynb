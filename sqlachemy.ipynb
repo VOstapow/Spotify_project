{
 "cells": [
  {
   "cell_type": "code",
   "execution_count": 1,
   "metadata": {},
   "outputs": [],
   "source": [
    "%matplotlib inline\n",
    "from matplotlib import style\n",
    "style.use('fivethirtyeight')\n",
    "import matplotlib.pyplot as plt"
   ]
  },
  {
   "cell_type": "code",
   "execution_count": 2,
   "metadata": {},
   "outputs": [],
   "source": [
    "import numpy as np\n",
    "import pandas as pd\n",
    "import datetime as dt"
   ]
  },
  {
   "cell_type": "code",
   "execution_count": 3,
   "metadata": {},
   "outputs": [],
   "source": [
    "# Python SQL toolkit and Object Relational Mapper\n",
    "import sqlalchemy\n",
    "from sqlalchemy.ext.automap import automap_base\n",
    "from sqlalchemy.orm import Session\n",
    "from sqlalchemy import create_engine, func, inspect"
   ]
  },
  {
   "cell_type": "code",
   "execution_count": 4,
   "metadata": {},
   "outputs": [],
   "source": [
    "# create engine to hawaii.sqlite\n",
    "engine = create_engine(\"sqlite:///Resources/spotify_db.sqlite\")"
   ]
  },
  {
   "cell_type": "code",
   "execution_count": 5,
   "metadata": {},
   "outputs": [],
   "source": [
    "# reflect an existing database into a new model\n",
    "Base = automap_base()\n",
    "# reflect the tables\n",
    "# Base.prepare(autoload_with=engine)\n",
    "Base.prepare(engine, reflect=True)"
   ]
  },
  {
   "cell_type": "code",
   "execution_count": 6,
   "metadata": {},
   "outputs": [
    {
     "data": {
      "text/plain": [
       "['spotify']"
      ]
     },
     "execution_count": 6,
     "metadata": {},
     "output_type": "execute_result"
    }
   ],
   "source": [
    "# View all of the classes that automap found\n",
    "Base.classes.keys()"
   ]
  },
  {
   "cell_type": "code",
   "execution_count": 7,
   "metadata": {},
   "outputs": [],
   "source": [
    "# Table reference\n",
    "spotify = Base.classes.spotify"
   ]
  },
  {
   "cell_type": "code",
   "execution_count": 8,
   "metadata": {},
   "outputs": [],
   "source": [
    "# Create our session (link) from Python to the DB\n",
    "session = Session(engine)"
   ]
  },
  {
   "cell_type": "code",
   "execution_count": 9,
   "metadata": {},
   "outputs": [
    {
     "name": "stdout",
     "output_type": "stream",
     "text": [
      "id INTEGER\n",
      "uri TEXT\n",
      "rank INTEGER\n",
      "artist_names TEXT\n",
      "artist_id TEXT\n",
      "artist_genre TEXT\n",
      "artist_img TEXT\n",
      "track_name TEXT\n",
      "album_cover TEXT\n",
      "peak_rank INTEGER\n",
      "weeks_on_chart INTEGER\n",
      "streams INTEGER\n",
      "week DATE\n",
      "country TEXT\n",
      "danceability FLOAT\n",
      "acousticness FLOAT\n",
      "loudness FLOAT\n",
      "tempo FLOAT\n"
     ]
    }
   ],
   "source": [
    "inspector = inspect(engine)\n",
    "inspector.get_table_names()\n",
    "\n",
    "# Columns in 'measurement' table\n",
    "columns = inspector.get_columns('spotify')\n",
    "for c in columns:\n",
    "    print(c['name'], c['type'])"
   ]
  },
  {
   "cell_type": "code",
   "execution_count": 10,
   "metadata": {},
   "outputs": [
    {
     "data": {
      "text/plain": [
       "[('Olivia Rodrigo', 31739490),\n",
       " ('Olivia Rodrigo', 24777068),\n",
       " ('Harry Styles', 24686367),\n",
       " ('Jack Harlow', 24422351),\n",
       " ('Olivia Rodrigo', 20688190),\n",
       " ('Adele', 20462767),\n",
       " ('Drake, Lil Baby', 19747340),\n",
       " ('Drake, Lil Baby', 19747340),\n",
       " ('Drake, Future, Young Thug', 19648367),\n",
       " ('Drake, Future, Young Thug', 19648367)]"
      ]
     },
     "execution_count": 10,
     "metadata": {},
     "output_type": "execute_result"
    }
   ],
   "source": [
    "# Top 20 Artists (artist_names, streams, week)\n",
    "# artists = session.query(spotify.artist_id).order_by(spotify.artist_id.desc()).first()\n",
    "artists = session.query(spotify.artist_names, spotify.streams).order_by(spotify.streams.desc()).limit(10).all()\n",
    "artists"
   ]
  },
  {
   "cell_type": "code",
   "execution_count": 11,
   "metadata": {},
   "outputs": [
    {
     "data": {
      "text/plain": [
       "<bound method Session.close of <sqlalchemy.orm.session.Session object at 0x00000206DA16CE20>>"
      ]
     },
     "execution_count": 11,
     "metadata": {},
     "output_type": "execute_result"
    }
   ],
   "source": [
    "session.close"
   ]
  }
 ],
 "metadata": {
  "kernelspec": {
   "display_name": "base",
   "language": "python",
   "name": "python3"
  },
  "language_info": {
   "codemirror_mode": {
    "name": "ipython",
    "version": 3
   },
   "file_extension": ".py",
   "mimetype": "text/x-python",
   "name": "python",
   "nbconvert_exporter": "python",
   "pygments_lexer": "ipython3",
   "version": "3.9.12"
  },
  "orig_nbformat": 4,
  "vscode": {
   "interpreter": {
    "hash": "19447407f4e9a5d06e1b80b5184e2324634491ca39176cb66080e71e0b43e55a"
   }
  }
 },
 "nbformat": 4,
 "nbformat_minor": 2
}
